{
 "cells": [
  {
   "cell_type": "code",
   "execution_count": 1,
   "metadata": {
    "collapsed": true,
    "deletable": true,
    "editable": true
   },
   "outputs": [],
   "source": [
    "import pandas as pd\n",
    "import psycopg2"
   ]
  },
  {
   "cell_type": "code",
   "execution_count": 2,
   "metadata": {
    "collapsed": true,
    "deletable": true,
    "editable": true
   },
   "outputs": [],
   "source": [
    "conn = psycopg2.connect(database='liang-bo.wang_project1')"
   ]
  },
  {
   "cell_type": "code",
   "execution_count": 3,
   "metadata": {
    "collapsed": false,
    "deletable": true,
    "editable": true
   },
   "outputs": [
    {
     "name": "stdout",
     "output_type": "stream",
     "text": [
      "CPU times: user 1.44 s, sys: 280 ms, total: 1.72 s\n",
      "Wall time: 26.6 s\n"
     ]
    }
   ],
   "source": [
    "%%time\n",
    "df = pd.read_sql_query('''\n",
    "SELECT pickup_lon, pickup_lat, dropoff_lon, dropoff_lat,\n",
    "       pickup_datetime AT TIME ZONE 'EDT' AS pickup_datetime, \n",
    "       dropoff_datetime AT TIME ZONE 'EDT' AS dropoff_datetime,\n",
    "       trip_distance, total_amount\n",
    "FROM taxi_trips\n",
    "WHERE ST_Within(dropoff_loc, (SELECT geom FROM taxi_zones WHERE gid = 132))\n",
    "    AND pickup_lon != 0\n",
    "    AND pickup_lat != 0\n",
    "    AND trip_distance > 5\n",
    "    AND (pickup_datetime AT TIME ZONE 'EDT')::date BETWEEN '2016-06-01'::date AND '2016-06-30'::date\n",
    "ORDER BY pickup_datetime ASC;\n",
    "''', con=conn)"
   ]
  },
  {
   "cell_type": "code",
   "execution_count": 4,
   "metadata": {
    "collapsed": false,
    "deletable": true,
    "editable": true
   },
   "outputs": [],
   "source": [
    "df.to_csv('trips_to_jfk_201606.csv', index=False)"
   ]
  },
  {
   "cell_type": "code",
   "execution_count": null,
   "metadata": {
    "collapsed": true,
    "deletable": true,
    "editable": true
   },
   "outputs": [],
   "source": []
  }
 ],
 "metadata": {
  "kernelspec": {
   "display_name": "Python 3",
   "language": "python",
   "name": "python3"
  },
  "language_info": {
   "codemirror_mode": {
    "name": "ipython",
    "version": 3
   },
   "file_extension": ".py",
   "mimetype": "text/x-python",
   "name": "python",
   "nbconvert_exporter": "python",
   "pygments_lexer": "ipython3",
   "version": "3.6.0"
  }
 },
 "nbformat": 4,
 "nbformat_minor": 2
}
