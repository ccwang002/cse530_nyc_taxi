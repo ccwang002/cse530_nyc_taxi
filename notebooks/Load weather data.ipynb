{
 "cells": [
  {
   "cell_type": "code",
   "execution_count": 3,
   "metadata": {
    "collapsed": true
   },
   "outputs": [],
   "source": [
    "from pathlib import Path\n",
    "from datetime import datetime\n",
    "from decimal import Decimal\n",
    "from collections import namedtuple\n",
    "import pandas as pd\n",
    "import pytz"
   ]
  },
  {
   "cell_type": "code",
   "execution_count": 2,
   "metadata": {
    "collapsed": true
   },
   "outputs": [],
   "source": [
    "UTC = pytz.UTC"
   ]
  },
  {
   "cell_type": "code",
   "execution_count": 47,
   "metadata": {
    "collapsed": true
   },
   "outputs": [],
   "source": [
    "WEATHER_COLS = [\n",
    "    'station', 'record_datetime',\n",
    "    'temperature', 'dew_temperature',\n",
    "    'relative_humidity', 'wind_direction', 'wind_speed',\n",
    "    'one_hour_acc_precipitation', 'visibility',\n",
    "    'wind_gust_speed'\n",
    "]\n",
    "\n",
    "DECIMAL_FIELDS = [\n",
    "    'temperature', 'dew_temperature',\n",
    "    'relative_humidity', 'wind_direction', 'wind_speed',\n",
    "    'one_hour_acc_precipitation', 'visibility',\n",
    "    'wind_gust_speed'\n",
    "]"
   ]
  },
  {
   "cell_type": "code",
   "execution_count": 84,
   "metadata": {
    "collapsed": false
   },
   "outputs": [],
   "source": [
    "to_na_decimal = lambda text: Decimal('NaN') if text == 'M' else Decimal(text)\n",
    "to_utc_date = lambda text: UTC.localize(datetime.strptime(text, '%Y-%m-%d %H:%M'))\n",
    "\n",
    "def read_weather(csv_pth, chunksize=100000):\n",
    "    return pd.read_table(\n",
    "        csv_pth,\n",
    "        skiprows=5,\n",
    "        header=0,\n",
    "        names=WEATHER_COLS,\n",
    "        parse_dates=False, index_col=False,\n",
    "        converters={\n",
    "            'station': str.encode,\n",
    "            'record_datetime': to_utc_date,\n",
    "            **{col: to_na_decimal for col in DECIMAL_FIELDS},\n",
    "        },\n",
    "        chunksize=chunksize\n",
    "    )"
   ]
  },
  {
   "cell_type": "code",
   "execution_count": 54,
   "metadata": {
    "collapsed": false,
    "deletable": true,
    "editable": true
   },
   "outputs": [],
   "source": [
    "import psycopg2\n",
    "from pgcopy import CopyManager, Replace\n",
    "from io import BytesIO, StringIO"
   ]
  },
  {
   "cell_type": "code",
   "execution_count": 86,
   "metadata": {
    "collapsed": true,
    "deletable": true,
    "editable": true
   },
   "outputs": [],
   "source": [
    "conn = psycopg2.connect(database='liang-bo.wang_project1')"
   ]
  },
  {
   "cell_type": "code",
   "execution_count": 87,
   "metadata": {
    "collapsed": true,
    "deletable": true,
    "editable": true
   },
   "outputs": [],
   "source": [
    "mgr = CopyManager(conn, 'weather', ['id', *WEATHER_COLS])"
   ]
  },
  {
   "cell_type": "code",
   "execution_count": 88,
   "metadata": {
    "collapsed": false
   },
   "outputs": [],
   "source": [
    "%%time\n",
    "for df in read_weather('../raw_weather_data/ny_weather_2015-2016.csv'):\n",
    "    records = list(df.itertuples(index=True, name='Weather'))\n",
    "    with conn:\n",
    "        mgr.copy(records, BytesIO)"
   ]
  },
  {
   "cell_type": "code",
   "execution_count": 81,
   "metadata": {
    "collapsed": false
   },
   "outputs": [],
   "source": []
  },
  {
   "cell_type": "code",
   "execution_count": null,
   "metadata": {
    "collapsed": true
   },
   "outputs": [],
   "source": []
  }
 ],
 "metadata": {
  "kernelspec": {
   "display_name": "Python 3",
   "language": "python",
   "name": "python3"
  },
  "language_info": {
   "codemirror_mode": {
    "name": "ipython",
    "version": 3
   },
   "file_extension": ".py",
   "mimetype": "text/x-python",
   "name": "python",
   "nbconvert_exporter": "python",
   "pygments_lexer": "ipython3",
   "version": "3.6.0"
  }
 },
 "nbformat": 4,
 "nbformat_minor": 2
}
