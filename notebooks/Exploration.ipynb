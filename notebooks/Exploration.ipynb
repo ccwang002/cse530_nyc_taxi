{
 "cells": [
  {
   "cell_type": "code",
   "execution_count": 28,
   "metadata": {
    "collapsed": false
   },
   "outputs": [],
   "source": [
    "from pathlib import Path\n",
    "from datetime import datetime\n",
    "from collections import Counter\n",
    "import pytz\n",
    "import pandas as pd"
   ]
  },
  {
   "cell_type": "code",
   "execution_count": 32,
   "metadata": {
    "collapsed": true
   },
   "outputs": [],
   "source": [
    "UTC = pytz.UTC"
   ]
  },
  {
   "cell_type": "code",
   "execution_count": 10,
   "metadata": {
    "collapsed": false
   },
   "outputs": [],
   "source": [
    "yellow_trip_csvs = list(Path('./raw_trip_data/').glob('yellow_tripdata_2016-1?.csv'))"
   ]
  },
  {
   "cell_type": "code",
   "execution_count": 69,
   "metadata": {
    "collapsed": true
   },
   "outputs": [],
   "source": [
    "all_start_date_times = Counter()"
   ]
  },
  {
   "cell_type": "code",
   "execution_count": 70,
   "metadata": {
    "collapsed": false
   },
   "outputs": [],
   "source": [
    "def take_weekday_hour():\n",
    "    f = yellow_trip_csvs[0].open()\n",
    "    print(next(f)) # header\n",
    "    for i, line in enumerate(f):\n",
    "        record = line.split(',')[:-2]\n",
    "        start_dt = UTC.localize(datetime.strptime(record[1], '%Y-%m-%d %H:%M:%S'))\n",
    "        # Monday = 0, Sunday = 6\n",
    "        yield start_dt.hour # (start_dt.weekday(), start_dt.hour)"
   ]
  },
  {
   "cell_type": "code",
   "execution_count": 71,
   "metadata": {
    "collapsed": false
   },
   "outputs": [
    {
     "name": "stdout",
     "output_type": "stream",
     "text": [
      "VendorID,tpep_pickup_datetime,tpep_dropoff_datetime,passenger_count,trip_distance,RatecodeID,store_and_fwd_flag,PULocationID,DOLocationID,payment_type,fare_amount,extra,mta_tax,tip_amount,tolls_amount,improvement_surcharge,total_amount\n",
      "\n"
     ]
    }
   ],
   "source": [
    "all_start_date_times.update(take_weekday_hour())"
   ]
  },
  {
   "cell_type": "code",
   "execution_count": 72,
   "metadata": {
    "collapsed": false
   },
   "outputs": [
    {
     "data": {
      "text/plain": [
       "[(19, 662858),\n",
       " (18, 651059),\n",
       " (20, 625389),\n",
       " (21, 598790),\n",
       " (22, 571744),\n",
       " (17, 567508),\n",
       " (14, 559250),\n",
       " (13, 542061),\n",
       " (12, 541814),\n",
       " (15, 536111),\n",
       " (11, 522197),\n",
       " (9, 508474),\n",
       " (10, 505199),\n",
       " (23, 503043),\n",
       " (8, 491766),\n",
       " (16, 483548),\n",
       " (7, 411946),\n",
       " (0, 389318),\n",
       " (1, 294779),\n",
       " (6, 247110),\n",
       " (2, 227556),\n",
       " (3, 168203),\n",
       " (4, 126810),\n",
       " (5, 118093)]"
      ]
     },
     "execution_count": 72,
     "metadata": {},
     "output_type": "execute_result"
    }
   ],
   "source": [
    "all_start_date_times.most_common()"
   ]
  },
  {
   "cell_type": "code",
   "execution_count": null,
   "metadata": {
    "collapsed": true
   },
   "outputs": [],
   "source": []
  }
 ],
 "metadata": {
  "kernelspec": {
   "display_name": "Python 3",
   "language": "python",
   "name": "python3"
  },
  "language_info": {
   "codemirror_mode": {
    "name": "ipython",
    "version": 3
   },
   "file_extension": ".py",
   "mimetype": "text/x-python",
   "name": "python",
   "nbconvert_exporter": "python",
   "pygments_lexer": "ipython3",
   "version": "3.6.0"
  }
 },
 "nbformat": 4,
 "nbformat_minor": 2
}
