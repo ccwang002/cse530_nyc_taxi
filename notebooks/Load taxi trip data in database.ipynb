{
 "cells": [
  {
   "cell_type": "code",
   "execution_count": 1,
   "metadata": {
    "collapsed": true
   },
   "outputs": [],
   "source": [
    "from pathlib import Path\n",
    "from datetime import datetime\n",
    "from collections import namedtuple\n",
    "import pandas as pd\n",
    "import pytz"
   ]
  },
  {
   "cell_type": "code",
   "execution_count": 2,
   "metadata": {
    "collapsed": false
   },
   "outputs": [],
   "source": [
    "UTC = pytz.UTC\n",
    "EST = pytz.timezone('US/Eastern')"
   ]
  },
  {
   "cell_type": "markdown",
   "metadata": {},
   "source": [
    "## Read in Yellow Taxi Trip\n",
    "\n",
    "Ref: http://www.nyc.gov/html/tlc/downloads/pdf/data_dictionary_trip_records_yellow.pdf"
   ]
  },
  {
   "cell_type": "code",
   "execution_count": 3,
   "metadata": {
    "collapsed": true
   },
   "outputs": [],
   "source": [
    "YELLOW_COLS = [\n",
    "    'vendor_id', 'pickup_datetime', 'dropoff_datetime',\n",
    "    'passenger_count', 'trip_distance',\n",
    "    'pickup_lon', 'pickup_lat',\n",
    "    'rate_code_id', 'store_and_fwd_flag',\n",
    "    'dropoff_lon', 'dropoff_lat',\n",
    "    'payment_type', 'fare_amount',\n",
    "    'extra', 'mta_tax', 'tip_amount', 'tolls_amount',\n",
    "    'improvement_surcharge', 'total_amount'\n",
    "]\n",
    "\n",
    "\n",
    "def read_yellow_trip(csv_pth, chunksize=100000):\n",
    "    df_reader = pd.read_csv(\n",
    "        csv_pth, \n",
    "        header=0, index_col=False, usecols=range(19),\n",
    "        chunksize=chunksize, parse_dates=False,\n",
    "        names=YELLOW_COLS\n",
    "    )\n",
    "    for df in df_reader:\n",
    "        yield df"
   ]
  },
  {
   "cell_type": "code",
   "execution_count": 4,
   "metadata": {
    "collapsed": true
   },
   "outputs": [],
   "source": [
    "def make_nyc_dt(dt_str):\n",
    "    dt = UTC.normalize(EST.localize(datetime.strptime(dt_str, '%Y-%m-%d %H:%M:%S')))\n",
    "    return dt"
   ]
  },
  {
   "cell_type": "code",
   "execution_count": 5,
   "metadata": {
    "collapsed": true,
    "deletable": true,
    "editable": true
   },
   "outputs": [],
   "source": [
    "import psycopg2\n",
    "from pgcopy import CopyManager, Replace\n",
    "from io import BytesIO, StringIO"
   ]
  },
  {
   "cell_type": "code",
   "execution_count": 6,
   "metadata": {
    "collapsed": true
   },
   "outputs": [],
   "source": [
    "conn = psycopg2.connect(database='liang-bo.wang_project1')"
   ]
  },
  {
   "cell_type": "code",
   "execution_count": null,
   "metadata": {
    "collapsed": false,
    "deletable": true,
    "editable": true
   },
   "outputs": [],
   "source": [
    "%%time\n",
    "mgr = CopyManager(conn, 'taxi_trips', ['taxi_type', *YELLOW_COLS])\n",
    "\n",
    "for df in read_yellow_trip('../raw_trip_data/yellow_tripdata_2016-06.csv'):\n",
    "    records = []\n",
    "    for trip in df.itertuples(index=False, name='YellowTaxiTrip'):\n",
    "        trip = trip._replace(\n",
    "            pickup_datetime=make_nyc_dt(trip.pickup_datetime),\n",
    "            dropoff_datetime=make_nyc_dt(trip.dropoff_datetime),\n",
    "            store_and_fwd_flag=trip.store_and_fwd_flag.encode(),\n",
    "        )\n",
    "        records.append((b'YELLOW', *trip))\n",
    "    with conn:\n",
    "        mgr.copy(records, BytesIO)"
   ]
  },
  {
   "cell_type": "code",
   "execution_count": null,
   "metadata": {
    "collapsed": true
   },
   "outputs": [],
   "source": [
    "conn.close()"
   ]
  },
  {
   "cell_type": "code",
   "execution_count": null,
   "metadata": {
    "collapsed": true
   },
   "outputs": [],
   "source": []
  }
 ],
 "metadata": {
  "kernelspec": {
   "display_name": "Python 3",
   "language": "python",
   "name": "python3"
  },
  "language_info": {
   "codemirror_mode": {
    "name": "ipython",
    "version": 3
   },
   "file_extension": ".py",
   "mimetype": "text/x-python",
   "name": "python",
   "nbconvert_exporter": "python",
   "pygments_lexer": "ipython3",
   "version": "3.6.0"
  }
 },
 "nbformat": 4,
 "nbformat_minor": 2
}
