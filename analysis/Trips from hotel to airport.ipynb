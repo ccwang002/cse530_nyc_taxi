{
 "cells": [
  {
   "cell_type": "code",
   "execution_count": 1,
   "metadata": {
    "collapsed": true
   },
   "outputs": [],
   "source": [
    "import pandas as pd\n",
    "import psycopg2"
   ]
  },
  {
   "cell_type": "code",
   "execution_count": 2,
   "metadata": {
    "collapsed": true
   },
   "outputs": [],
   "source": [
    "conn = psycopg2.connect(database='liang-bo.wang_project1')"
   ]
  },
  {
   "cell_type": "code",
   "execution_count": 3,
   "metadata": {
    "collapsed": false
   },
   "outputs": [
    {
     "name": "stdout",
     "output_type": "stream",
     "text": [
      "CPU times: user 16 ms, sys: 4 ms, total: 20 ms\n",
      "Wall time: 1min 4s\n"
     ]
    }
   ],
   "source": [
    "%%time\n",
    "df = pd.read_sql_query('''\n",
    "WITH trips AS (\n",
    "    SELECT pickup_datetime AT TIME ZONE 'EDT' AS pickup_datetime,\n",
    "           dropoff_datetime AT TIME ZONE 'EDT' AS dropoff_datetime, \n",
    "           EXTRACT(EPOCH FROM dropoff_datetime - pickup_datetime) AS trip_duration,\n",
    "           trip_distance, \n",
    "           total_amount\n",
    "    FROM taxi_trips\n",
    "    WHERE \n",
    "        ST_DWithin(\n",
    "            pickup_loc, \n",
    "            ST_Transform(ST_SetSRID(ST_MakePoint('-73.986166', '40.758585'), 4326), 3627),\n",
    "            800\n",
    "        )\n",
    "        AND ST_Within(dropoff_loc, (SELECT geom FROM taxi_zones WHERE gid = 132))\n",
    "    LIMIT 1000\n",
    ") \n",
    "SELECT \n",
    "    pickup_datetime, dropoff_datetime, trip_duration, trip_distance, total_amount,\n",
    "    max(one_hour_acc_precipitation) AS max_precipitation,\n",
    "    avg(temperature) AS avg_temperature\n",
    "FROM trips\n",
    "LEFT JOIN weather_normalize\n",
    "ON date_trunc('hour', record_datetime) BETWEEN\n",
    "    date_trunc('hour', pickup_datetime AT TIME ZONE 'EDT') AND date_trunc('hour', dropoff_datetime AT TIME ZONE 'EDT') \n",
    "    AND one_hour_acc_precipitation != double precision 'NaN' \n",
    "    AND temperature != double precision 'NaN'\n",
    "GROUP BY pickup_datetime, dropoff_datetime, trip_duration, trip_distance, total_amount;\n",
    "''', con=conn)"
   ]
  },
  {
   "cell_type": "code",
   "execution_count": 4,
   "metadata": {
    "collapsed": true
   },
   "outputs": [],
   "source": [
    "df.to_csv('trips_New_York_Marriott_Marquis_to_jfk.csv', index=False)"
   ]
  },
  {
   "cell_type": "code",
   "execution_count": null,
   "metadata": {
    "collapsed": true
   },
   "outputs": [],
   "source": []
  }
 ],
 "metadata": {
  "kernelspec": {
   "display_name": "Python 3",
   "language": "python",
   "name": "python3"
  },
  "language_info": {
   "codemirror_mode": {
    "name": "ipython",
    "version": 3
   },
   "file_extension": ".py",
   "mimetype": "text/x-python",
   "name": "python",
   "nbconvert_exporter": "python",
   "pygments_lexer": "ipython3",
   "version": "3.6.0"
  }
 },
 "nbformat": 4,
 "nbformat_minor": 2
}
